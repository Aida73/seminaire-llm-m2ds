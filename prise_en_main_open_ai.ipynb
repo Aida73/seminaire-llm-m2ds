{
 "cells": [
  {
   "cell_type": "code",
   "execution_count": 13,
   "metadata": {},
   "outputs": [],
   "source": [
    "#!pip install openai\n",
    "import openai\n",
    "import pandas as pd\n",
    "import os\n",
    "import time\n",
    "from dotenv import load_dotenv, find_dotenv\n",
    "_ = load_dotenv(find_dotenv()) # read local .env file\n",
    "\n",
    "openai.api_key = os.environ['OPENAI_API_KEY']  # input yours here"
   ]
  },
  {
   "cell_type": "code",
   "execution_count": 48,
   "metadata": {},
   "outputs": [
    {
     "data": {
      "text/plain": [
       "(20, 10)"
      ]
     },
     "execution_count": 48,
     "metadata": {},
     "output_type": "execute_result"
    }
   ],
   "source": [
    "df = pd.read_csv(\"data/data1.csv\")\n",
    "df.shape"
   ]
  },
  {
   "cell_type": "code",
   "execution_count": 49,
   "metadata": {},
   "outputs": [
    {
     "data": {
      "text/html": [
       "<div>\n",
       "<style scoped>\n",
       "    .dataframe tbody tr th:only-of-type {\n",
       "        vertical-align: middle;\n",
       "    }\n",
       "\n",
       "    .dataframe tbody tr th {\n",
       "        vertical-align: top;\n",
       "    }\n",
       "\n",
       "    .dataframe thead th {\n",
       "        text-align: right;\n",
       "    }\n",
       "</style>\n",
       "<table border=\"1\" class=\"dataframe\">\n",
       "  <thead>\n",
       "    <tr style=\"text-align: right;\">\n",
       "      <th></th>\n",
       "      <th>submission_id</th>\n",
       "      <th>title</th>\n",
       "      <th>text</th>\n",
       "      <th>num_votes</th>\n",
       "      <th>num_comments</th>\n",
       "      <th>date</th>\n",
       "      <th>author</th>\n",
       "      <th>author_id</th>\n",
       "      <th>author_name</th>\n",
       "      <th>comments</th>\n",
       "    </tr>\n",
       "  </thead>\n",
       "  <tbody>\n",
       "    <tr>\n",
       "      <th>0</th>\n",
       "      <td>1akynbd</td>\n",
       "      <td>L'UE recule sur la réduction des pesticides : ...</td>\n",
       "      <td>NaN</td>\n",
       "      <td>70</td>\n",
       "      <td>25</td>\n",
       "      <td>07/02/2024, 08:52:31</td>\n",
       "      <td>t2_t16fr</td>\n",
       "      <td>t16fr</td>\n",
       "      <td>Folivao</td>\n",
       "      <td>[\"Oh ben ça alors. Au moins l'agrobusiness va ...</td>\n",
       "    </tr>\n",
       "    <tr>\n",
       "      <th>1</th>\n",
       "      <td>1aleoht</td>\n",
       "      <td>Si vous deviez noter l'utilité réel de votre t...</td>\n",
       "      <td>0 étant le bulshit job ultime, genre \"consulta...</td>\n",
       "      <td>222</td>\n",
       "      <td>651</td>\n",
       "      <td>07/02/2024, 21:48:23</td>\n",
       "      <td>t2_dfxglyvc0</td>\n",
       "      <td>dfxglyvc0</td>\n",
       "      <td>ad-undeterminam</td>\n",
       "      <td>[\"1/10. Je bosse au service info (architecte /...</td>\n",
       "    </tr>\n",
       "    <tr>\n",
       "      <th>2</th>\n",
       "      <td>1agx03j</td>\n",
       "      <td>Gabriel Attal tente d’éteindre la colère des a...</td>\n",
       "      <td>NaN</td>\n",
       "      <td>264</td>\n",
       "      <td>150</td>\n",
       "      <td>02/02/2024, 06:12:57</td>\n",
       "      <td>t2_2i152lwx</td>\n",
       "      <td>2i152lwx</td>\n",
       "      <td>Proudhmak87</td>\n",
       "      <td>['Sans blague ? Je suis très étonné.', 'Ce qui...</td>\n",
       "    </tr>\n",
       "    <tr>\n",
       "      <th>3</th>\n",
       "      <td>1agk0hy</td>\n",
       "      <td>Prague veut une réponse forte face aux agricul...</td>\n",
       "      <td>NaN</td>\n",
       "      <td>166</td>\n",
       "      <td>25</td>\n",
       "      <td>01/02/2024, 19:58:30</td>\n",
       "      <td>t2_5bnih6r</td>\n",
       "      <td>5bnih6r</td>\n",
       "      <td>DicentricChromosome</td>\n",
       "      <td>[\"M. Tchekov, en tant que ministre de l'intéri...</td>\n",
       "    </tr>\n",
       "    <tr>\n",
       "      <th>4</th>\n",
       "      <td>1ael0kl</td>\n",
       "      <td>Pourquoi les agriculteurs n'achètent pas franç...</td>\n",
       "      <td>Une des revendications de la manif des agri es...</td>\n",
       "      <td>104</td>\n",
       "      <td>403</td>\n",
       "      <td>30/01/2024, 10:04:38</td>\n",
       "      <td>t2_3ooog9vx</td>\n",
       "      <td>3ooog9vx</td>\n",
       "      <td>papuniu</td>\n",
       "      <td>['Je ne reconnais plus personne, en Massey Fer...</td>\n",
       "    </tr>\n",
       "  </tbody>\n",
       "</table>\n",
       "</div>"
      ],
      "text/plain": [
       "  submission_id                                              title  \\\n",
       "0       1akynbd  L'UE recule sur la réduction des pesticides : ...   \n",
       "1       1aleoht  Si vous deviez noter l'utilité réel de votre t...   \n",
       "2       1agx03j  Gabriel Attal tente d’éteindre la colère des a...   \n",
       "3       1agk0hy  Prague veut une réponse forte face aux agricul...   \n",
       "4       1ael0kl  Pourquoi les agriculteurs n'achètent pas franç...   \n",
       "\n",
       "                                                text  num_votes  num_comments  \\\n",
       "0                                                NaN         70            25   \n",
       "1  0 étant le bulshit job ultime, genre \"consulta...        222           651   \n",
       "2                                                NaN        264           150   \n",
       "3                                                NaN        166            25   \n",
       "4  Une des revendications de la manif des agri es...        104           403   \n",
       "\n",
       "                   date        author  author_id          author_name  \\\n",
       "0  07/02/2024, 08:52:31      t2_t16fr      t16fr              Folivao   \n",
       "1  07/02/2024, 21:48:23  t2_dfxglyvc0  dfxglyvc0      ad-undeterminam   \n",
       "2  02/02/2024, 06:12:57   t2_2i152lwx   2i152lwx          Proudhmak87   \n",
       "3  01/02/2024, 19:58:30    t2_5bnih6r    5bnih6r  DicentricChromosome   \n",
       "4  30/01/2024, 10:04:38   t2_3ooog9vx   3ooog9vx              papuniu   \n",
       "\n",
       "                                            comments  \n",
       "0  [\"Oh ben ça alors. Au moins l'agrobusiness va ...  \n",
       "1  [\"1/10. Je bosse au service info (architecte /...  \n",
       "2  ['Sans blague ? Je suis très étonné.', 'Ce qui...  \n",
       "3  [\"M. Tchekov, en tant que ministre de l'intéri...  \n",
       "4  ['Je ne reconnais plus personne, en Massey Fer...  "
      ]
     },
     "execution_count": 49,
     "metadata": {},
     "output_type": "execute_result"
    }
   ],
   "source": [
    "df.head()"
   ]
  },
  {
   "cell_type": "code",
   "execution_count": 63,
   "metadata": {},
   "outputs": [],
   "source": [
    "df = df[['title','comments','date']]"
   ]
  },
  {
   "cell_type": "code",
   "execution_count": null,
   "metadata": {},
   "outputs": [],
   "source": []
  },
  {
   "cell_type": "code",
   "execution_count": 131,
   "metadata": {},
   "outputs": [],
   "source": [
    "llm_model = \"gpt-3.5-turbo\"\n",
    "prompt = \"\"\"\\\n",
    "Je vais te donner une liste d'information avec un titre et la liste de ses commentaires,\n",
    "Tu vas faire du sentimal analysis sur les données fournies\n",
    "Tu vas t'interesser au titre et à la liste des commentaires correspondant à ce titre.\n",
    "Tu vas faire du sentimental analysis pour chaque commentaire de ce titre.\n",
    "Sentiment: stockera l'analyse que tu as fait du commentaire. \n",
    "title :  le titre du post\n",
    "comments: liste des commentaires\n",
    "sentiment: Extraire le sentiment du texte et le restituer sous forme négative, positive ou neutre.\n",
    "argument: Extraire l'argument derrière le sentiment et le restituer sous la forme d'une liste de Pyhton.\n",
    "Tu retourneras une liste contenant le titre, les commentaires et le sentiment pour chaque commentaire.\n",
    "Retourne juste un objet json\n",
    "\n",
    "Format de la réponse: une liste JSON avec les clés suivantes:\n",
    "title\n",
    "comments\n",
    "sentiment\n",
    "argument\n",
    "\n",
    "liste d'information: {data}\n",
    "\"\"\""
   ]
  },
  {
   "cell_type": "code",
   "execution_count": 132,
   "metadata": {},
   "outputs": [],
   "source": [
    "def get_response_from_model(prompt):\n",
    "    messages = [{\"role\": \"user\", \"content\": prompt}]\n",
    "    response = openai.ChatCompletion.create(\n",
    "        model=llm_model,\n",
    "        messages=messages,\n",
    "        temperature=0\n",
    "    )\n",
    "    return response.choices[0].message.content"
   ]
  },
  {
   "cell_type": "code",
   "execution_count": 133,
   "metadata": {},
   "outputs": [],
   "source": [
    "liste_data = df[['title','comments']]"
   ]
  },
  {
   "cell_type": "code",
   "execution_count": null,
   "metadata": {},
   "outputs": [],
   "source": []
  },
  {
   "cell_type": "code",
   "execution_count": 134,
   "metadata": {},
   "outputs": [
    {
     "name": "stdout",
     "output_type": "stream",
     "text": [
      "Je vais te donner une liste d'information avec un titre et la liste de ses commentaires,\n",
      "Tu vas faire du sentimal analysis sur les données fournies\n",
      "Tu vas t'interesser au titre et à la liste des commentaires correspondant à ce titre.\n",
      "Tu vas faire du sentimental analysis pour chaque commentaire de ce titre.\n",
      "Sentiment: stockera l'analyse que tu as fait du commentaire. \n",
      "title :  le titre du post\n",
      "comments: liste des commentaires\n",
      "sentiment: Extraire le sentiment du texte et le restituer sous forme négative, positive ou neutre.\n",
      "argument: Extraire l'argument derrière le sentiment et le restituer sous la forme d'une liste de Pyhton.\n",
      "Tu retourneras une liste contenant le titre, les commentaires et le sentiment pour chaque commentaire.\n",
      "Retourne juste un objet json\n",
      "\n",
      "Format de la réponse: une liste JSON avec les clés suivantes:\n",
      "title\n",
      "comments\n",
      "sentiment\n",
      "argument\n",
      "\n",
      "liste d'information: [\"L'UE recule sur la réduction des pesticides : cadeau aux agriculteurs ou à l'agrochimie ?\", '[\"Oh ben ça alors. Au moins l\\'agrobusiness va faire plus de profit. L\\'environnement et la santé? On ne fait pas d\\'omelette sans casser des œufs.\", \"Je suppose que c\\'est pour le réarmement démographique et lutter contre l\\'infertilité ? \\\\n\\\\nOH WAIT !\", \"Encore un bien bel article de radiobiodynamie, toujours à la pointe de la science !  \\\\nRevenir sur des normes absurdes qui ne protègent ni l\\'environnement ni la santé est un recul au même titre que passer d\\'un objectif d\\'énergies renouvelables à un objectif de CO2.\", \\'....\\', \\'Ils vont de nouveau autoriser le glyphosate ?\\\\n\\\\nCe serait pas mal. J’ai quelques bordures qui en ont besoin.\\', \"C\\'est pas une bonne nouvelle, pas forcément une mauvaise non plus.  \\\\nAu moins c\\'est cohérent. Ça serait con de faire des tafta, ceta et autres, et d\\'avoir des contraintes environnementales fortes en europe.  \\\\nDans un monde idéal on aurait des normes fortes qui concernent aussi les importations, mais on évite au moins une des situations absurdes possibles.\"]']\n",
      "\n"
     ]
    }
   ],
   "source": [
    "print(prompt.format(data=list(liste_data.iloc[0])))"
   ]
  },
  {
   "cell_type": "code",
   "execution_count": 135,
   "metadata": {},
   "outputs": [],
   "source": [
    "response = get_response_from_model(prompt.format(data=liste_data))"
   ]
  },
  {
   "cell_type": "code",
   "execution_count": 122,
   "metadata": {},
   "outputs": [
    {
     "name": "stdout",
     "output_type": "stream",
     "text": [
      "[\n",
      "  {\n",
      "    \"title\": \"L'UE recule sur la réduction des pesticides : les agriculteurs en colère\",\n",
      "    \"comments\": [\n",
      "      \"Oh ben ça alors. Au moins l'agrobusiness va pouvoir continuer à empoisonner les sols et les nappes phréatiques.\",\n",
      "      \"1/10. Je bosse au service info (architecte / devops) d'une grosse boîte de l'agroalimentaire. Je peux vous dire que les agriculteurs sont les premiers à utiliser des pesticides à tout va. Ils sont les premiers à demander des produits chimiques pour augmenter leurs rendements. Ils sont les premiers à utiliser des OGM. Ils sont les premiers à utiliser des semences hybrides. Ils sont les premiers à utiliser des engrais chimiques. Ils sont les premiers à utiliser des antibiotiques pour leurs animaux. Ils sont les premiers à utiliser des hormones pour leurs animaux. Ils sont les premiers à utiliser des antibiotiques pour leurs animaux. Ils sont les premiers à utiliser des hormones pour leurs animaux. Ils sont les premiers à utiliser des antibiotiques pour leurs animaux. Ils sont les premiers à utiliser des hormones pour leurs animaux. Ils sont les premiers à utiliser des antibiotiques pour leurs animaux. Ils sont les premiers à utiliser des hormones pour leurs animaux. Ils sont les premiers à utiliser des antibiotiques pour leurs animaux. Ils sont les premiers à utiliser des hormones pour leurs animaux. Ils sont les premiers à utiliser des antibiotiques pour leurs animaux. Ils sont les premiers à utiliser des hormones pour leurs animaux. Ils sont les premiers à utiliser des antibiotiques pour leurs animaux. Ils sont les premiers à utiliser des hormones pour leurs animaux. Ils sont les premiers à utiliser des antibiotiques pour leurs animaux. Ils sont les premiers à utiliser des hormones pour leurs animaux. Ils sont les premiers à utiliser des antibiotiques pour leurs animaux. Ils sont les premiers à utiliser des hormones pour leurs animaux. Ils sont les premiers à utiliser des antibiotiques pour leurs animaux. Ils sont les premiers à utiliser des hormones pour leurs animaux. Ils sont les premiers à utiliser des antibiotiques pour leurs animaux. Ils sont les premiers à utiliser des hormones pour leurs animaux. Ils sont les premiers à utiliser des antibiotiques pour leurs animaux. Ils sont les premiers à utiliser des hormones pour leurs animaux. Ils sont les premiers à utiliser des antibiotiques pour leurs animaux. Ils sont les premiers à utiliser des hormones pour leurs animaux. Ils sont les premiers à utiliser des antibiotiques pour leurs animaux. Ils sont les premiers à utiliser des hormones pour leurs animaux. Ils sont les premiers à utiliser des antibiotiques pour leurs animaux. Ils sont les premiers à utiliser des hormones pour leurs animaux. Ils sont les premiers à utiliser des antibiotiques pour leurs animaux. Ils sont les premiers à utiliser des hormones pour leurs animaux. Ils sont les premiers à utiliser des antibiotiques pour leurs animaux. Ils sont les premiers à utiliser des hormones pour leurs animaux. Ils sont les premiers à utiliser des antibiotiques pour leurs animaux. Ils sont les premiers à utiliser des hormones pour leurs animaux. Ils sont les premiers à utiliser des antibiotiques pour leurs animaux. Ils sont les premiers à utiliser des hormones pour leurs animaux. Ils sont les premiers à utiliser des antibiotiques pour leurs animaux. Ils sont les premiers à utiliser des hormones pour leurs animaux. Ils sont les premiers à utiliser des antibiotiques pour leurs animaux. Ils sont les premiers à utiliser des hormones pour leurs animaux. Ils sont les premiers à utiliser des antibiotiques pour leurs animaux. Ils sont les premiers à utiliser des hormones pour leurs animaux. Ils sont les premiers à utiliser des antibiotiques pour leurs animaux. Ils sont les premiers à utiliser des hormones pour leurs animaux. Ils sont les premiers à utiliser des antibiotiques pour leurs animaux. Ils sont les premiers à utiliser des hormones pour leurs animaux. Ils sont les premiers à utiliser des antibiotiques pour leurs animaux. Ils sont les premiers à utiliser des hormones pour leurs animaux. Ils sont les premiers à utiliser des antibiotiques pour leurs animaux. Ils sont les premiers à utiliser des hormones pour leurs animaux. Ils sont les premiers à utiliser des antibiotiques pour leurs animaux. Ils sont les premiers à utiliser des hormones pour leurs animaux. Ils sont les premiers à utiliser des antibiotiques pour leurs animaux. Ils sont les premiers à utiliser des hormones pour leurs animaux. Ils sont les premiers à utiliser des antibiotiques pour leurs animaux. Ils sont les premiers à utiliser des hormones pour leurs animaux. Ils sont les premiers à utiliser des antibiotiques pour leurs animaux. Ils sont les premiers à utiliser des hormones pour leurs animaux. Ils sont les premiers à utiliser des antibiotiques pour leurs animaux. Ils sont les premiers à utiliser des hormones pour leurs animaux. Ils sont les premiers à utiliser des antibiotiques pour leurs animaux. Ils sont les premiers à utiliser des hormones pour leurs animaux. Ils sont les premiers à utiliser des antibiotiques pour leurs animaux. Ils sont les premiers à utiliser des hormones pour leurs animaux. Ils sont les premiers à utiliser des antibiotiques pour leurs animaux. Ils sont les premiers à utiliser des hormones pour leurs animaux. Ils sont les premiers à utiliser des antibiotiques pour leurs animaux. Ils sont les premiers à utiliser des hormones pour leurs animaux. Ils sont les premiers à utiliser des antibiotiques pour leurs animaux. Ils sont les premiers à utiliser des hormones pour leurs animaux. Ils sont les premiers à utiliser des antibiotiques pour leurs animaux. Ils sont les premiers à utiliser des hormones pour leurs animaux. Ils sont les premiers à utiliser des antibiotiques pour leurs animaux. Ils sont les premiers à utiliser des hormones pour leurs animaux. Ils sont les premiers à utiliser des antibiotiques pour leurs animaux. Ils sont les premiers à utiliser des hormones pour leurs animaux. Ils sont les premiers à utiliser des antibiotiques pour leurs animaux. Ils sont les premiers à utiliser des hormones pour leurs animaux. Ils sont les premiers à utiliser des antibiotiques pour leurs animaux. Ils sont les premiers à utiliser des hormones pour leurs animaux. Ils sont les premiers à utiliser des antibiotiques pour leurs animaux. Ils sont les premiers à utiliser des hormones pour leurs animaux. Ils sont les premiers à utiliser des antibiotiques pour leurs animaux. Ils sont les premiers à utiliser des hormones pour leurs animaux. Ils sont les premiers à utiliser des antibiotiques pour leurs animaux. Ils sont les premiers à utiliser des hormones pour leurs animaux. Ils sont les premiers à utiliser des antibiotiques pour leurs animaux. Ils sont les premiers à utiliser des hormones pour leurs animaux. Ils sont les premiers à utiliser des antibiotiques pour leurs animaux. Ils sont les premiers à utiliser des hormones pour leurs animaux. Ils sont les premiers à utiliser des antibiotiques pour leurs animaux. Ils sont les premiers à utiliser des hormones pour leurs animaux. Ils sont les premiers à utiliser des antibiotiques pour leurs animaux. Ils sont les premiers à utiliser des hormones pour leurs animaux. Ils sont les premiers à utiliser des antibiotiques pour leurs animaux. Ils sont les premiers à utiliser des hormones pour leurs animaux. Ils sont les premiers à utiliser des antibiotiques pour leurs animaux. Ils sont les premiers à utiliser des hormones pour leurs animaux. Ils sont les premiers à utiliser des antibiotiques pour leurs animaux. Ils sont les premiers à utiliser des hormones pour leurs animaux. Ils sont les premiers à utiliser des antibiotiques pour leurs animaux. Ils sont les premiers à utiliser des hormones pour leurs animaux. Ils sont les premiers à utiliser des antibiotiques pour leurs animaux. Ils sont les premiers à utiliser des hormones pour leurs animaux. Ils sont les premiers à utiliser des antibiotiques pour leurs animaux. Ils sont les premiers à utiliser des hormones pour leurs animaux. Ils sont les premiers à utiliser des antibiotiques pour leurs animaux. Ils sont les premiers à utiliser des hormones pour leurs animaux. Ils sont les premiers à utiliser des antibiotiques pour leurs animaux. Ils sont les premiers à utiliser des hormones pour leurs animaux. Ils sont les premiers à utiliser des antibiotiques pour leurs animaux. Ils sont les premiers à utiliser des hormones pour leurs animaux. Ils sont les premiers à utiliser des antibiotiques pour leurs animaux. Ils sont les premiers à utiliser des hormones pour leurs animaux. Ils sont les premiers à utiliser des antibiotiques pour leurs animaux. Ils sont les premiers à utiliser des hormones pour leurs animaux. Ils sont les premiers à utiliser des antibiotiques pour leurs animaux. Ils sont les premiers à utiliser des hormones pour leurs animaux. Ils sont les premiers à utiliser des antibiotiques pour leurs animaux. Ils sont les premiers à utiliser des hormones pour leurs animaux. Ils sont les premiers à utiliser des antibiotiques pour leurs animaux. Ils sont les premiers à utiliser des hormones pour leurs animaux. Ils sont les premiers à utiliser des antibiotiques pour leurs animaux. Ils sont les premiers à utiliser des hormones pour leurs animaux. Ils sont les premiers à utiliser des antibiotiques pour leurs animaux. Ils sont les premiers à utiliser des hormones pour leurs animaux. Ils sont les premiers à utiliser des antibiotiques pour leurs animaux. Ils sont les premiers à utiliser des hormones pour leurs animaux. Ils sont les premiers à utiliser des antibiotiques pour leurs animaux. Ils sont les premiers à utiliser des hormones pour leurs animaux. Ils sont les premiers à utiliser des antibiotiques pour leurs animaux. Ils sont les premiers à utiliser des hormones pour leurs animaux. Ils sont les premiers à utiliser des antibiotiques pour leurs animaux. Ils sont les premiers à utiliser des hormones pour leurs animaux. Ils sont les premiers à utiliser des antibiotiques pour leurs animaux. Ils sont les premiers à utiliser des hormones pour leurs animaux. Ils sont les premiers à utiliser des antibiotiques pour leurs animaux. Ils sont les premiers à utiliser des hormones pour leurs animaux. Ils sont les premiers à utiliser des antibiotiques pour leurs animaux. Ils sont les premiers à utiliser des hormones pour leurs animaux. Ils sont les premiers à utiliser des antibiotiques pour leurs animaux. Ils sont les premiers à utiliser des hormones pour leurs animaux. Ils sont les premiers à utiliser des antibiotiques pour leurs animaux. Ils sont les premiers à utiliser des hormones pour leurs animaux. Ils sont les premiers à utiliser des antibiotiques pour leurs animaux. Ils sont les premiers à utiliser des hormones pour leurs animaux. Ils sont les premiers à utiliser des antibiotiques pour leurs animaux. Ils sont les premiers à utiliser des hormones pour leurs animaux. Ils sont les premiers à utiliser des antibiotiques pour leurs animaux. Ils sont les premiers à utiliser des hormones pour leurs animaux. Ils sont les premiers à utiliser des antibiotiques pour leurs animaux. Ils sont les premiers à utiliser des hormones pour leurs animaux. Ils sont les premiers à utiliser des antibiotiques pour leurs animaux. Ils sont les premiers à utiliser des hormones pour leurs animaux. Ils sont les premiers à utiliser des antibiotiques pour leurs animaux. Ils sont les premiers à utiliser des hormones pour leurs animaux. Ils sont les premiers à utiliser des antibiotiques pour leurs animaux. Ils sont les premiers à utiliser des hormones pour leurs animaux. Ils sont les premiers à utiliser des antibiotiques pour leurs animaux. Ils sont les premiers à utiliser des hormones pour leurs animaux. Ils sont les premiers à utiliser des antibiotiques pour leurs animaux. Ils sont les premiers à utiliser des hormones pour leurs animaux. Ils sont les premiers à utiliser des antibiotiques pour leurs animaux. Ils sont les premiers à utiliser des hormones pour leurs animaux. Ils sont les premiers à utiliser des antibiotiques pour leurs animaux. Ils sont les premiers à utiliser des hormones pour leurs animaux. Ils sont les premiers à utiliser des antibiotiques pour leurs animaux. Ils sont les premiers à utiliser des hormones pour leurs animaux. Ils sont les premiers à utiliser des antibiotiques pour leurs animaux. Ils sont les premiers à utiliser des hormones pour leurs animaux. Ils sont les premiers à utiliser des antibiotiques pour leurs animaux. Ils sont les premiers à utiliser des hormones pour leurs animaux. Ils sont les premiers à utiliser des antibiotiques pour leurs animaux. Ils sont les premiers à utiliser des hormones pour leurs animaux. Ils sont les premiers à utiliser des antibiotiques pour leurs animaux. Ils sont les premiers à utiliser des hormones pour leurs animaux. Ils sont les premiers à utiliser des antibiotiques pour leurs animaux. Ils sont les premiers à utiliser des hormones pour leurs animaux. Ils sont les premiers à utiliser des antibiotiques pour leurs animaux. Ils sont les premiers à utiliser des hormones pour leurs animaux. Ils sont les premiers à utiliser des antibiotiques pour leurs animaux. Ils sont les premiers à utiliser des hormones pour leurs animaux. Ils sont les premiers à utiliser des antibiotiques pour leurs animaux. Ils sont les premiers à utiliser des hormones pour leurs animaux. Ils sont les premiers à utiliser des antibiotiques pour leurs animaux. Ils sont les premiers à utiliser des hormones pour leurs animaux. Ils sont les premiers à utiliser des antibiotiques pour leurs animaux. Ils sont les premiers à utiliser des hormones pour leurs animaux. Ils sont les premiers à utiliser des antibiotiques pour leurs animaux. Ils sont les premiers à utiliser des hormones pour leurs animaux. Ils sont les premiers à utiliser des antibiotiques pour leurs animaux. Ils sont les premiers à utiliser des hormones pour leurs animaux. Ils sont les premiers à utiliser des antibiotiques pour leurs animaux. Ils sont les premiers à utiliser des hormones pour leurs animaux. Ils sont les premiers à utiliser des antibiotiques pour leurs animaux. Ils sont les premiers à utiliser des hormones pour leurs animaux. Ils sont les premiers à utiliser des antibiotiques pour leurs animaux. Ils sont les premiers à utiliser des hormones pour leurs animaux. Ils sont les premiers à utiliser des antibiotiques pour leurs animaux. Ils sont les premiers à utiliser des hormones pour leurs animaux. Ils sont les premiers à utiliser des antibiotiques pour leurs animaux. Ils sont les premiers à utiliser des hormones pour leurs animaux. Ils sont les premiers à utiliser des antibiotiques pour leurs animaux. Ils sont les premiers à utiliser des hormones pour leurs animaux. Ils sont les premiers à utiliser des antibiotiques\n"
     ]
    }
   ],
   "source": [
    "print(response)"
   ]
  },
  {
   "cell_type": "code",
   "execution_count": null,
   "metadata": {},
   "outputs": [],
   "source": []
  },
  {
   "cell_type": "code",
   "execution_count": 115,
   "metadata": {},
   "outputs": [
    {
     "name": "stdout",
     "output_type": "stream",
     "text": [
      "{\n",
      "  \"title\": \"L'UE recule sur la réduction des pesticides : les agriculteurs en colère\",\n",
      "  \"comments\": [\n",
      "    {\n",
      "      \"comment\": \"Oh ben ça alors. Au moins l'agrobusiness va pouvoir continuer à empoisonner les sols et les nappes phréatiques en toute impunité.\",\n",
      "      \"sentiment\": \"négatif\",\n",
      "      \"argument\": [\"empoisonnement des sols\", \"empoisonnement des nappes phréatiques\"]\n",
      "    },\n",
      "    {\n",
      "      \"comment\": \"1/10. Je bosse au service info (architecte / devops) d'une grosse boîte de l'agroalimentaire. Je peux vous dire que les agriculteurs sont les derniers de nos soucis. On préfère investir dans des projets de R&D pour améliorer nos produits et nos processus.\",\n",
      "      \"sentiment\": \"négatif\",\n",
      "      \"argument\": [\"manque d'intérêt pour les agriculteurs\", \"priorité à la R&D\"]\n",
      "    },\n",
      "    {\n",
      "      \"comment\": \"Sans blague ? Je suis très étonné.\",\n",
      "      \"sentiment\": \"neutre\",\n",
      "      \"argument\": []\n",
      "    },\n",
      "    {\n",
      "      \"comment\": \"M. Tchekov, en tant que ministre de l'intérieur, vous devriez vous occuper des problèmes de sécurité plutôt que de vous mêler des affaires agricoles.\",\n",
      "      \"sentiment\": \"négatif\",\n",
      "      \"argument\": [\"manque de priorité sur la sécurité\", \"ingérence dans les affaires agricoles\"]\n",
      "    },\n",
      "    {\n",
      "      \"comment\": \"Je ne reconnais plus personne, en Massey Ferguson ou en John Deere.\",\n",
      "      \"sentiment\": \"neutre\",\n",
      "      \"argument\": []\n",
      "    },\n",
      "    {\n",
      "      \"comment\": \"Les agriculteurs ont tout mon soutien. Ils sont les premiers à subir les conséquences des politiques agricoles irresponsables.\",\n",
      "      \"sentiment\": \"positif\",\n",
      "      \"argument\": [\"soutien aux agriculteurs\", \"critique des politiques agricoles\"]\n",
      "    },\n",
      "    {\n",
      "      \"comment\": \"La manière dont ils cèdent à toutes les revendications des agriculteurs est honteuse. Ils devraient plutôt investir dans des solutions durables pour l'agriculture.\",\n",
      "      \"sentiment\": \"négatif\",\n",
      "      \"argument\": [\"manque de fermeté\", \"besoin de solutions durables\"]\n",
      "    },\n",
      "    {\n",
      "      \"comment\": \"Rarement vu un article *ragebait* aussi peu subtil.\",\n",
      "      \"sentiment\": \"négatif\",\n",
      "      \"argument\": [\"manque de subtilité de l'article\"]\n",
      "    },\n",
      "    {\n",
      "      \"comment\": \"Je vous demande de vous arrêter\",\n",
      "      \"sentiment\": \"négatif\",\n",
      "      \"argument\": [\"demande d'arrêt\"]\n",
      "    },\n",
      "    {\n",
      "      \"comment\": \"Ah? C'est pas déjà fait?\",\n",
      "      \"sentiment\": \"neutre\",\n",
      "      \"argument\": []\n",
      "    },\n",
      "    {\n",
      "      \"comment\": \"Est-ce qu'ils vont aller chercher le président de la FNSEA aussi ?\",\n",
      "      \"sentiment\": \"neutre\",\n",
      "      \"argument\": []\n",
      "    },\n",
      "    {\n",
      "      \"comment\": \"Et moi qui croyait que Darmanin laissait faire les agriculteurs pour éviter les émeutes.\",\n",
      "      \"sentiment\": \"négatif\",\n",
      "      \"argument\": [\"manque de répression\", \"prévention des émeutes\"]\n",
      "    },\n",
      "    {\n",
      "      \"comment\": \">###Les retraites des agriculteurs sont plus basses que celles des autres professions.\\n\\nC'est un scandale !\",\n",
      "      \"sentiment\": \"négatif\",\n",
      "      \"argument\": [\"inégalité des retraites\", \"scandale\"]\n",
      "    },\n",
      "    {\n",
      "      \"comment\": \"On pouvait s'arrêter à \\\"hashtag\\\".\\n\\nLes agriculteurs sont les premiers à se plaindre mais ils sont aussi les premiers à bénéficier des subventions de l'UE.\",\n",
      "      \"sentiment\": \"négatif\",\n",
      "      \"argument\": [\"hypocrisie des agriculteurs\", \"bénéfice des subventions\"]\n",
      "    },\n",
      "    {\n",
      "      \"comment\": \"C'est vraiment \\\"méconnu du grand public\\\", la FNSEA ?\",\n",
      "      \"sentiment\": \"neutre\",\n",
      "      \"argument\": []\n",
      "    },\n",
      "    {\n",
      "      \"comment\": \"Au delà de leurs revendications, je comprends la colère des agriculteurs. Ils se sentent abandonnés par les politiques.\",\n",
      "      \"sentiment\": \"positif\",\n",
      "      \"argument\": [\"compréhension de la colère\", \"sentiment d'abandon\"]\n",
      "    },\n",
      "    {\n",
      "      \"comment\": \"> \\\"Nous avons décidé de changer de méthode et de passer à l'action.\\\" \\n\\nEnfin !\",\n",
      "      \"sentiment\": \"positif\",\n",
      "      \"argument\": [\"changement de méthode\", \"passage à l'action\"]\n",
      "    },\n",
      "    {\n",
      "      \"comment\": \"Ces bestioles ont l'air de bien mieux voler que les agriculteurs.\",\n",
      "      \"sentiment\": \"neutre\",\n",
      "      \"argument\": []\n",
      "    },\n",
      "    {\n",
      "      \"comment\": \"Chasseurs VS Agriculteurs, je l'avais pas vu venir celle-là.\",\n",
      "      \"sentiment\": \"neutre\",\n",
      "      \"argument\": []\n",
      "    },\n",
      "    {\n",
      "      \"comment\": \"Ça a quand même l'air easy mode d'être un politique en France.\",\n",
      "      \"sentiment\": \"neutre\",\n",
      "      \"argument\": []\n",
      "    }\n",
      "  ]\n",
      "}\n"
     ]
    }
   ],
   "source": [
    "print(response)"
   ]
  },
  {
   "cell_type": "code",
   "execution_count": 102,
   "metadata": {},
   "outputs": [
    {
     "name": "stdout",
     "output_type": "stream",
     "text": [
      "<class 'dict'>\n"
     ]
    }
   ],
   "source": [
    "import json\n",
    "r = json.loads(response)\n",
    "print(type(r))"
   ]
  },
  {
   "cell_type": "code",
   "execution_count": 107,
   "metadata": {},
   "outputs": [
    {
     "data": {
      "text/plain": [
       "\"L'UE recule sur la réduction des pesticides : les agriculteurs en colère\""
      ]
     },
     "execution_count": 107,
     "metadata": {},
     "output_type": "execute_result"
    }
   ],
   "source": [
    "r['title']"
   ]
  },
  {
   "cell_type": "code",
   "execution_count": 110,
   "metadata": {},
   "outputs": [],
   "source": [
    "comment_data = []\n",
    "for comment in r['comments']:\n",
    "    comment_data.append({\n",
    "        'title': r['title'],\n",
    "        'comment': comment['comment'],\n",
    "        'sentiment': comment['sentiment']\n",
    "    })\n",
    "\n",
    "# Créer un DataFrame à partir de la liste de dictionnaires\n",
    "df2 = pd.DataFrame(comment_data)"
   ]
  },
  {
   "cell_type": "code",
   "execution_count": 114,
   "metadata": {},
   "outputs": [
    {
     "data": {
      "text/plain": [
       "{'comment': \"Oh ben ça alors. Au moins l'agrobusiness va pouvoir continuer à empoisonner les sols et les nappes phréatiques en toute impunité.\",\n",
       " 'sentiment': 'négatif',\n",
       " 'argument': ['empoisonnement des sols',\n",
       "  'empoisonnement des nappes phréatiques']}"
      ]
     },
     "execution_count": 114,
     "metadata": {},
     "output_type": "execute_result"
    }
   ],
   "source": [
    "r['comments'][0]"
   ]
  },
  {
   "cell_type": "code",
   "execution_count": 111,
   "metadata": {},
   "outputs": [
    {
     "data": {
      "text/html": [
       "<div>\n",
       "<style scoped>\n",
       "    .dataframe tbody tr th:only-of-type {\n",
       "        vertical-align: middle;\n",
       "    }\n",
       "\n",
       "    .dataframe tbody tr th {\n",
       "        vertical-align: top;\n",
       "    }\n",
       "\n",
       "    .dataframe thead th {\n",
       "        text-align: right;\n",
       "    }\n",
       "</style>\n",
       "<table border=\"1\" class=\"dataframe\">\n",
       "  <thead>\n",
       "    <tr style=\"text-align: right;\">\n",
       "      <th></th>\n",
       "      <th>title</th>\n",
       "      <th>comment</th>\n",
       "      <th>sentiment</th>\n",
       "    </tr>\n",
       "  </thead>\n",
       "  <tbody>\n",
       "    <tr>\n",
       "      <th>0</th>\n",
       "      <td>L'UE recule sur la réduction des pesticides : ...</td>\n",
       "      <td>Oh ben ça alors. Au moins l'agrobusiness va po...</td>\n",
       "      <td>négatif</td>\n",
       "    </tr>\n",
       "    <tr>\n",
       "      <th>1</th>\n",
       "      <td>L'UE recule sur la réduction des pesticides : ...</td>\n",
       "      <td>1/10. Je bosse au service info (architecte / d...</td>\n",
       "      <td>négatif</td>\n",
       "    </tr>\n",
       "    <tr>\n",
       "      <th>2</th>\n",
       "      <td>L'UE recule sur la réduction des pesticides : ...</td>\n",
       "      <td>Sans blague ? Je suis très étonné.</td>\n",
       "      <td>neutre</td>\n",
       "    </tr>\n",
       "    <tr>\n",
       "      <th>3</th>\n",
       "      <td>L'UE recule sur la réduction des pesticides : ...</td>\n",
       "      <td>M. Tchekov, en tant que ministre de l'intérieu...</td>\n",
       "      <td>négatif</td>\n",
       "    </tr>\n",
       "    <tr>\n",
       "      <th>4</th>\n",
       "      <td>L'UE recule sur la réduction des pesticides : ...</td>\n",
       "      <td>Je ne reconnais plus personne, en Massey Fergu...</td>\n",
       "      <td>neutre</td>\n",
       "    </tr>\n",
       "    <tr>\n",
       "      <th>5</th>\n",
       "      <td>L'UE recule sur la réduction des pesticides : ...</td>\n",
       "      <td>Les agriculteurs ont tout mon soutien. Ils son...</td>\n",
       "      <td>positif</td>\n",
       "    </tr>\n",
       "    <tr>\n",
       "      <th>6</th>\n",
       "      <td>L'UE recule sur la réduction des pesticides : ...</td>\n",
       "      <td>La manière dont ils cèdent à toutes les revend...</td>\n",
       "      <td>négatif</td>\n",
       "    </tr>\n",
       "    <tr>\n",
       "      <th>7</th>\n",
       "      <td>L'UE recule sur la réduction des pesticides : ...</td>\n",
       "      <td>Rarement vu un article *ragebait* aussi peu su...</td>\n",
       "      <td>négatif</td>\n",
       "    </tr>\n",
       "    <tr>\n",
       "      <th>8</th>\n",
       "      <td>L'UE recule sur la réduction des pesticides : ...</td>\n",
       "      <td>Je vous demande de vous arrêter</td>\n",
       "      <td>négatif</td>\n",
       "    </tr>\n",
       "    <tr>\n",
       "      <th>9</th>\n",
       "      <td>L'UE recule sur la réduction des pesticides : ...</td>\n",
       "      <td>Ah? C'est pas déjà fait?</td>\n",
       "      <td>neutre</td>\n",
       "    </tr>\n",
       "    <tr>\n",
       "      <th>10</th>\n",
       "      <td>L'UE recule sur la réduction des pesticides : ...</td>\n",
       "      <td>Est-ce qu'ils vont aller chercher le président...</td>\n",
       "      <td>neutre</td>\n",
       "    </tr>\n",
       "    <tr>\n",
       "      <th>11</th>\n",
       "      <td>L'UE recule sur la réduction des pesticides : ...</td>\n",
       "      <td>Et moi qui croyait que Darmanin laissait faire...</td>\n",
       "      <td>négatif</td>\n",
       "    </tr>\n",
       "    <tr>\n",
       "      <th>12</th>\n",
       "      <td>L'UE recule sur la réduction des pesticides : ...</td>\n",
       "      <td>&gt;###Les retraites des agriculteurs sont plus b...</td>\n",
       "      <td>négatif</td>\n",
       "    </tr>\n",
       "    <tr>\n",
       "      <th>13</th>\n",
       "      <td>L'UE recule sur la réduction des pesticides : ...</td>\n",
       "      <td>On pouvait s'arrêter à \"hashtag\".\\n\\nLes agric...</td>\n",
       "      <td>négatif</td>\n",
       "    </tr>\n",
       "    <tr>\n",
       "      <th>14</th>\n",
       "      <td>L'UE recule sur la réduction des pesticides : ...</td>\n",
       "      <td>C'est vraiment \"méconnu du grand public\", la F...</td>\n",
       "      <td>neutre</td>\n",
       "    </tr>\n",
       "    <tr>\n",
       "      <th>15</th>\n",
       "      <td>L'UE recule sur la réduction des pesticides : ...</td>\n",
       "      <td>Au delà de leurs revendications, je comprends ...</td>\n",
       "      <td>positif</td>\n",
       "    </tr>\n",
       "    <tr>\n",
       "      <th>16</th>\n",
       "      <td>L'UE recule sur la réduction des pesticides : ...</td>\n",
       "      <td>&gt; \"Nous avons décidé de changer de méthode et ...</td>\n",
       "      <td>positif</td>\n",
       "    </tr>\n",
       "    <tr>\n",
       "      <th>17</th>\n",
       "      <td>L'UE recule sur la réduction des pesticides : ...</td>\n",
       "      <td>Ces bestioles ont l'air de bien mieux voler qu...</td>\n",
       "      <td>neutre</td>\n",
       "    </tr>\n",
       "    <tr>\n",
       "      <th>18</th>\n",
       "      <td>L'UE recule sur la réduction des pesticides : ...</td>\n",
       "      <td>Chasseurs VS Agriculteurs, je l'avais pas vu v...</td>\n",
       "      <td>neutre</td>\n",
       "    </tr>\n",
       "    <tr>\n",
       "      <th>19</th>\n",
       "      <td>L'UE recule sur la réduction des pesticides : ...</td>\n",
       "      <td>Ça a quand même l'air easy mode d'être un poli...</td>\n",
       "      <td>neutre</td>\n",
       "    </tr>\n",
       "  </tbody>\n",
       "</table>\n",
       "</div>"
      ],
      "text/plain": [
       "                                                title  \\\n",
       "0   L'UE recule sur la réduction des pesticides : ...   \n",
       "1   L'UE recule sur la réduction des pesticides : ...   \n",
       "2   L'UE recule sur la réduction des pesticides : ...   \n",
       "3   L'UE recule sur la réduction des pesticides : ...   \n",
       "4   L'UE recule sur la réduction des pesticides : ...   \n",
       "5   L'UE recule sur la réduction des pesticides : ...   \n",
       "6   L'UE recule sur la réduction des pesticides : ...   \n",
       "7   L'UE recule sur la réduction des pesticides : ...   \n",
       "8   L'UE recule sur la réduction des pesticides : ...   \n",
       "9   L'UE recule sur la réduction des pesticides : ...   \n",
       "10  L'UE recule sur la réduction des pesticides : ...   \n",
       "11  L'UE recule sur la réduction des pesticides : ...   \n",
       "12  L'UE recule sur la réduction des pesticides : ...   \n",
       "13  L'UE recule sur la réduction des pesticides : ...   \n",
       "14  L'UE recule sur la réduction des pesticides : ...   \n",
       "15  L'UE recule sur la réduction des pesticides : ...   \n",
       "16  L'UE recule sur la réduction des pesticides : ...   \n",
       "17  L'UE recule sur la réduction des pesticides : ...   \n",
       "18  L'UE recule sur la réduction des pesticides : ...   \n",
       "19  L'UE recule sur la réduction des pesticides : ...   \n",
       "\n",
       "                                              comment sentiment  \n",
       "0   Oh ben ça alors. Au moins l'agrobusiness va po...   négatif  \n",
       "1   1/10. Je bosse au service info (architecte / d...   négatif  \n",
       "2                  Sans blague ? Je suis très étonné.    neutre  \n",
       "3   M. Tchekov, en tant que ministre de l'intérieu...   négatif  \n",
       "4   Je ne reconnais plus personne, en Massey Fergu...    neutre  \n",
       "5   Les agriculteurs ont tout mon soutien. Ils son...   positif  \n",
       "6   La manière dont ils cèdent à toutes les revend...   négatif  \n",
       "7   Rarement vu un article *ragebait* aussi peu su...   négatif  \n",
       "8                     Je vous demande de vous arrêter   négatif  \n",
       "9                            Ah? C'est pas déjà fait?    neutre  \n",
       "10  Est-ce qu'ils vont aller chercher le président...    neutre  \n",
       "11  Et moi qui croyait que Darmanin laissait faire...   négatif  \n",
       "12  >###Les retraites des agriculteurs sont plus b...   négatif  \n",
       "13  On pouvait s'arrêter à \"hashtag\".\\n\\nLes agric...   négatif  \n",
       "14  C'est vraiment \"méconnu du grand public\", la F...    neutre  \n",
       "15  Au delà de leurs revendications, je comprends ...   positif  \n",
       "16  > \"Nous avons décidé de changer de méthode et ...   positif  \n",
       "17  Ces bestioles ont l'air de bien mieux voler qu...    neutre  \n",
       "18  Chasseurs VS Agriculteurs, je l'avais pas vu v...    neutre  \n",
       "19  Ça a quand même l'air easy mode d'être un poli...    neutre  "
      ]
     },
     "execution_count": 111,
     "metadata": {},
     "output_type": "execute_result"
    }
   ],
   "source": [
    "df2"
   ]
  },
  {
   "cell_type": "code",
   "execution_count": 99,
   "metadata": {},
   "outputs": [],
   "source": [
    "new_df= pd.DataFrame(columns=('title','comments','sentiment'))\n"
   ]
  },
  {
   "cell_type": "code",
   "execution_count": 2,
   "metadata": {},
   "outputs": [],
   "source": [
    "llm_model = \"gpt-3.5-turbo\"\n",
    "prompt = \"\"\"\\\n",
    "For the following text, extract the following information:\n",
    "item :  what is the purchased item?\n",
    "gift: Was the item purchased as a gift for someone else? \\\n",
    "Answer True if yes, False if not or unknown.\n",
    "gift for : If it is a gift  say for who? otherwise output -1\n",
    "delivery_days: How many days did it take for the product \\\n",
    "to arrive? If this information is not found, output -1.\n",
    "price_value: Extract any sentences about the value or price,\\\n",
    "and output them as a comma separated Python list.\n",
    "sentiment: Extrcat the sentiment from the text and output as negative, positive or neutral \n",
    "argument: Extract the argument behind the sentiment and output as Pyhton list.\n",
    "\n",
    "Format the output as JSON with the following keys:\n",
    "item\n",
    "gift\n",
    "gift for\n",
    "delivery_days\n",
    "price_value\n",
    "sentiment\n",
    "argument\n",
    "\n",
    "text: {text}\n",
    "\"\"\"\n",
    "def get_response_from_model(prompt):\n",
    "    messages = [{\"role\": \"user\", \"content\": prompt}]\n",
    "    response = openai.ChatCompletion.create(\n",
    "        model=llm_model,\n",
    "        messages=messages,\n",
    "        temperature=0\n",
    "    )\n",
    "    return response.choices[0].message.content"
   ]
  },
  {
   "cell_type": "code",
   "execution_count": 3,
   "metadata": {},
   "outputs": [],
   "source": [
    "review = \"I purchased a table very bad experience 2 days delay to receive my item\""
   ]
  },
  {
   "cell_type": "code",
   "execution_count": 4,
   "metadata": {},
   "outputs": [
    {
     "data": {
      "text/plain": [
       "'For the following text, extract the following information:\\nitem :  what is the purchased item?\\ngift: Was the item purchased as a gift for someone else? Answer True if yes, False if not or unknown.\\ngift for : If it is a gift  say for who? otherwise output -1\\ndelivery_days: How many days did it take for the product to arrive? If this information is not found, output -1.\\nprice_value: Extract any sentences about the value or price,and output them as a comma separated Python list.\\nsentiment: Extrcat the sentiment from the text and output as negative, positive or neutral \\nargument: Extract the argument behind the sentiment and output as Pyhton list.\\n\\nFormat the output as JSON with the following keys:\\nitem\\ngift\\ngift for\\ndelivery_days\\nprice_value\\nsentiment\\nargument\\n\\ntext: I purchased a table very bad experience 2 days delay to receive my item\\n'"
      ]
     },
     "execution_count": 4,
     "metadata": {},
     "output_type": "execute_result"
    }
   ],
   "source": [
    "prompt.format(text=review)"
   ]
  },
  {
   "cell_type": "code",
   "execution_count": 5,
   "metadata": {},
   "outputs": [
    {
     "name": "stdout",
     "output_type": "stream",
     "text": [
      "{\n",
      "  \"item\": \"table\",\n",
      "  \"gift\": false,\n",
      "  \"gift for\": -1,\n",
      "  \"delivery_days\": 2,\n",
      "  \"price_value\": [],\n",
      "  \"sentiment\": \"negative\",\n",
      "  \"argument\": [\"very bad experience\"]\n",
      "}\n"
     ]
    }
   ],
   "source": [
    "print(get_response_from_model(prompt.format(text=review)))"
   ]
  },
  {
   "cell_type": "code",
   "execution_count": null,
   "metadata": {},
   "outputs": [],
   "source": []
  },
  {
   "cell_type": "code",
   "execution_count": null,
   "metadata": {},
   "outputs": [],
   "source": []
  },
  {
   "cell_type": "code",
   "execution_count": null,
   "metadata": {},
   "outputs": [],
   "source": []
  }
 ],
 "metadata": {
  "kernelspec": {
   "display_name": "stargate3.9",
   "language": "python",
   "name": "python3"
  },
  "language_info": {
   "codemirror_mode": {
    "name": "ipython",
    "version": 3
   },
   "file_extension": ".py",
   "mimetype": "text/x-python",
   "name": "python",
   "nbconvert_exporter": "python",
   "pygments_lexer": "ipython3",
   "version": "3.11.7"
  }
 },
 "nbformat": 4,
 "nbformat_minor": 2
}
