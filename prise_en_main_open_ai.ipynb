{
 "cells": [
  {
   "cell_type": "code",
   "execution_count": 1,
   "metadata": {},
   "outputs": [],
   "source": [
    "#!pip install openai\n",
    "import openai\n",
    "import os\n",
    "import time\n",
    "from dotenv import load_dotenv, find_dotenv\n",
    "_ = load_dotenv(find_dotenv()) # read local .env file\n",
    "\n",
    "openai.api_key = os.environ['OPENAI_API_KEY']  # input yours here"
   ]
  },
  {
   "cell_type": "code",
   "execution_count": null,
   "metadata": {},
   "outputs": [],
   "source": [
    "llm_model = \"gpt-3.5-turbo\"\n",
    "prompt = \"\"\"\\\n",
    "Je vais te donner une liste d'information,\n",
    "Tu vas faire du sentimal analysis sur les données fournies\n",
    "Tu vas t'interesser au titre et au post pour analyser le sentiment derriere\n",
    "Sentiment: stockera l'analyse que tu as fait du commentaire. Il y'aura neutre si les gens sont neutres par rapport à la grêve des agriculteurs,\n",
    "positif si les gens sont d'accord avec la grêve des agriculteurs et negatif si les gens ne sont pas d'accord avec la grêve des agriculteurs\n",
    "\n",
    "title :  le titre du post\n",
    "post: contenu du post, mais parfois y'a pas de contenu ou c'est une image\n",
    "sentiment: Extraire le sentiment du texte et le restituer sous forme négative, positive ou neutre.\n",
    "argument: Extraire l'argument derrière le sentiment et le restituer sous la forme d'une liste de Pyhton.\n",
    "\n",
    "\n",
    "Format de la réponse: un JSON avec les clés suivantes:\n",
    "title\n",
    "post\n",
    "sentiment\n",
    "argument\n",
    "\n",
    "liste d'information: {text}\n",
    "\"\"\""
   ]
  },
  {
   "cell_type": "code",
   "execution_count": null,
   "metadata": {},
   "outputs": [],
   "source": [
    "# num_votes: le nombre de personnnes qui ont aimé le post\n",
    "# num_comments: le nombre de commentaires\n",
    "# author: l'auteur du post\n",
    "# author_id: id de l'auteur\n",
    "# author_name: le nom de l'auteur"
   ]
  },
  {
   "cell_type": "code",
   "execution_count": null,
   "metadata": {},
   "outputs": [],
   "source": [
    "def get_response_from_model(prompt):\n",
    "    messages = [{\"role\": \"user\", \"content\": prompt}]\n",
    "    response = openai.ChatCompletion.create(\n",
    "        model=llm_model,\n",
    "        messages=messages,\n",
    "        temperature=0\n",
    "    )\n",
    "    return response.choices[0].message.content"
   ]
  },
  {
   "cell_type": "code",
   "execution_count": 2,
   "metadata": {},
   "outputs": [],
   "source": [
    "llm_model = \"gpt-3.5-turbo\"\n",
    "prompt = \"\"\"\\\n",
    "For the following text, extract the following information:\n",
    "item :  what is the purchased item?\n",
    "gift: Was the item purchased as a gift for someone else? \\\n",
    "Answer True if yes, False if not or unknown.\n",
    "gift for : If it is a gift  say for who? otherwise output -1\n",
    "delivery_days: How many days did it take for the product \\\n",
    "to arrive? If this information is not found, output -1.\n",
    "price_value: Extract any sentences about the value or price,\\\n",
    "and output them as a comma separated Python list.\n",
    "sentiment: Extrcat the sentiment from the text and output as negative, positive or neutral \n",
    "argument: Extract the argument behind the sentiment and output as Pyhton list.\n",
    "\n",
    "Format the output as JSON with the following keys:\n",
    "item\n",
    "gift\n",
    "gift for\n",
    "delivery_days\n",
    "price_value\n",
    "sentiment\n",
    "argument\n",
    "\n",
    "text: {text}\n",
    "\"\"\"\n",
    "def get_response_from_model(prompt):\n",
    "    messages = [{\"role\": \"user\", \"content\": prompt}]\n",
    "    response = openai.ChatCompletion.create(\n",
    "        model=llm_model,\n",
    "        messages=messages,\n",
    "        temperature=0\n",
    "    )\n",
    "    return response.choices[0].message.content"
   ]
  },
  {
   "cell_type": "code",
   "execution_count": 3,
   "metadata": {},
   "outputs": [],
   "source": [
    "review = \"I purchased a table very bad experience 2 days delay to receive my item\""
   ]
  },
  {
   "cell_type": "code",
   "execution_count": 4,
   "metadata": {},
   "outputs": [
    {
     "data": {
      "text/plain": [
       "'For the following text, extract the following information:\\nitem :  what is the purchased item?\\ngift: Was the item purchased as a gift for someone else? Answer True if yes, False if not or unknown.\\ngift for : If it is a gift  say for who? otherwise output -1\\ndelivery_days: How many days did it take for the product to arrive? If this information is not found, output -1.\\nprice_value: Extract any sentences about the value or price,and output them as a comma separated Python list.\\nsentiment: Extrcat the sentiment from the text and output as negative, positive or neutral \\nargument: Extract the argument behind the sentiment and output as Pyhton list.\\n\\nFormat the output as JSON with the following keys:\\nitem\\ngift\\ngift for\\ndelivery_days\\nprice_value\\nsentiment\\nargument\\n\\ntext: I purchased a table very bad experience 2 days delay to receive my item\\n'"
      ]
     },
     "execution_count": 4,
     "metadata": {},
     "output_type": "execute_result"
    }
   ],
   "source": [
    "prompt.format(text=review)"
   ]
  },
  {
   "cell_type": "code",
   "execution_count": 5,
   "metadata": {},
   "outputs": [
    {
     "name": "stdout",
     "output_type": "stream",
     "text": [
      "{\n",
      "  \"item\": \"table\",\n",
      "  \"gift\": false,\n",
      "  \"gift for\": -1,\n",
      "  \"delivery_days\": 2,\n",
      "  \"price_value\": [],\n",
      "  \"sentiment\": \"negative\",\n",
      "  \"argument\": [\"very bad experience\"]\n",
      "}\n"
     ]
    }
   ],
   "source": [
    "print(get_response_from_model(prompt.format(text=review)))"
   ]
  },
  {
   "cell_type": "code",
   "execution_count": null,
   "metadata": {},
   "outputs": [],
   "source": []
  },
  {
   "cell_type": "code",
   "execution_count": null,
   "metadata": {},
   "outputs": [],
   "source": []
  },
  {
   "cell_type": "code",
   "execution_count": null,
   "metadata": {},
   "outputs": [],
   "source": []
  }
 ],
 "metadata": {
  "kernelspec": {
   "display_name": "stargate3.9",
   "language": "python",
   "name": "python3"
  },
  "language_info": {
   "codemirror_mode": {
    "name": "ipython",
    "version": 3
   },
   "file_extension": ".py",
   "mimetype": "text/x-python",
   "name": "python",
   "nbconvert_exporter": "python",
   "pygments_lexer": "ipython3",
   "version": "3.11.7"
  }
 },
 "nbformat": 4,
 "nbformat_minor": 2
}
